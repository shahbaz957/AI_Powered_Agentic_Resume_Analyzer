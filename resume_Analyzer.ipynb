{
 "cells": [
  {
   "cell_type": "code",
   "execution_count": 80,
   "id": "dd99aea3",
   "metadata": {},
   "outputs": [],
   "source": [
    "# setup of API keys\n",
    "from dotenv import load_dotenv\n",
    "load_dotenv()\n",
    "import os \n",
    "os.environ['TAVILY_API_KEY'] = os.getenv(\"TAVILY_API_KEY\")\n",
    "os.environ['GROQ_API_KEY'] = os.getenv(\"GROQ_API_KEY\")\n"
   ]
  },
  {
   "cell_type": "code",
   "execution_count": 81,
   "id": "991b9288",
   "metadata": {},
   "outputs": [
    {
     "name": "stderr",
     "output_type": "stream",
     "text": [
      "<>:3: SyntaxWarning: invalid escape sequence '\\A'\n",
      "<>:3: SyntaxWarning: invalid escape sequence '\\A'\n",
      "C:\\Users\\User\\AppData\\Local\\Temp\\ipykernel_24404\\3948672777.py:3: SyntaxWarning: invalid escape sequence '\\A'\n",
      "  doc = PyPDFLoader('S:\\AI_AGENTS\\Python_N_Env\\LangGraph\\Projects\\sample-job-description.pdf')\n"
     ]
    }
   ],
   "source": [
    "from langchain.document_loaders import PyPDFLoader\n",
    "\n",
    "doc = PyPDFLoader('S:\\AI_AGENTS\\Python_N_Env\\LangGraph\\Projects\\sample-job-description.pdf')\n",
    "docs = doc.load()\n"
   ]
  },
  {
   "cell_type": "code",
   "execution_count": 82,
   "id": "ff8c955f",
   "metadata": {},
   "outputs": [
    {
     "name": "stderr",
     "output_type": "stream",
     "text": [
      "<>:3: SyntaxWarning: invalid escape sequence '\\A'\n",
      "<>:3: SyntaxWarning: invalid escape sequence '\\A'\n",
      "C:\\Users\\User\\AppData\\Local\\Temp\\ipykernel_24404\\1090519743.py:3: SyntaxWarning: invalid escape sequence '\\A'\n",
      "  doc = PyPDFLoader('S:\\AI_AGENTS\\Python_N_Env\\LangGraph\\Projects\\human-resources-resume-example.pdf')\n"
     ]
    }
   ],
   "source": [
    "from langchain.document_loaders import PyPDFLoader\n",
    "\n",
    "doc = PyPDFLoader('S:\\AI_AGENTS\\Python_N_Env\\LangGraph\\Projects\\human-resources-resume-example.pdf')\n",
    "docs1 = doc.load()\n"
   ]
  },
  {
   "cell_type": "code",
   "execution_count": 128,
   "id": "eac131f2",
   "metadata": {},
   "outputs": [],
   "source": [
    "jobDescripition = docs[0].page_content\n",
    "applicant = docs1[0].page_content\n"
   ]
  },
  {
   "cell_type": "code",
   "execution_count": 84,
   "id": "5e15674f",
   "metadata": {},
   "outputs": [],
   "source": [
    "from langchain_groq import ChatGroq\n",
    "model = ChatGroq(model = 'llama-3.3-70b-versatile')"
   ]
  },
  {
   "cell_type": "markdown",
   "id": "14cecee5",
   "metadata": {},
   "source": [
    "# **`Defining Job Requirement Node`**"
   ]
  },
  {
   "cell_type": "code",
   "execution_count": 109,
   "id": "327eb55e",
   "metadata": {},
   "outputs": [],
   "source": [
    "from pydantic import BaseModel , Field\n",
    "from langchain_core.prompts import ChatPromptTemplate\n",
    "class JDrequirements(BaseModel):\n",
    "    \"\"\"Answer the requirements in the form of Bulletpoints \"\"\"\n",
    "    requirements : str = Field(description=\"Answer all the requirements in the form of Bulletpoints\")\n",
    "\n",
    "llm_with_str = model.with_structured_output(JDrequirements)\n",
    "system = \"\"\"You are an expert job requirement gathering assistant which gathers all the requirements and skills that are essential for the given job description . Atleast Give 5 Requirements\"\"\"\n",
    "\n",
    "prompt = ChatPromptTemplate(\n",
    "    [\n",
    "        ('system' , system),\n",
    "        ('human' , \"Give all the requirement for the job description given below \\n\\n {description}\")\n",
    "    ]\n",
    ")\n",
    "\n",
    "JD_chain = prompt | llm_with_str\n",
    "\n",
    "requirements = JD_chain.invoke({\"description\" : jobDescripition})\n"
   ]
  },
  {
   "cell_type": "code",
   "execution_count": 111,
   "id": "70e8d52d",
   "metadata": {},
   "outputs": [],
   "source": [
    "requirements = requirements.requirements"
   ]
  },
  {
   "cell_type": "markdown",
   "id": "3251413f",
   "metadata": {},
   "source": [
    "# **`Compatibility Score`**"
   ]
  },
  {
   "cell_type": "code",
   "execution_count": null,
   "id": "b5dc9815",
   "metadata": {},
   "outputs": [],
   "source": [
    "rand_str= 'according to the compatability between resume and job description'\n",
    "class ComScore(BaseModel):\n",
    "    \"\"\"Measure the compatability\"\"\"\n",
    "    score : str = Field(description=\"Score the compatability result between 0 to 100\")\n",
    "    requisite : str = Field(description=\"Requirements which are met or not\")\n",
    "\n",
    "llm_with_com = model.with_structured_output(ComScore)\n",
    "system = \"You are an expert Analyzer which analyze the compatibility between the requirements given by the job description and the resume of applicant and score the compatibility between 0 - 100 . score high if there is high compatibilty between requirements and resume of applicant\"\n",
    "\n",
    "prompt = ChatPromptTemplate(\n",
    "    [\n",
    "        ('system' , system),\n",
    "        ('human' , \"Requirements of job are {requirements} and resume of applicant is {resume}\")\n",
    "    ]\n",
    ")\n",
    "\n",
    "comp_chain = prompt | llm_with_com\n",
    "score = comp_chain.invoke({\"requirements\" : requirements , \"resume\" : applicant} )\n"
   ]
  },
  {
   "cell_type": "code",
   "execution_count": 91,
   "id": "d481f27c",
   "metadata": {},
   "outputs": [
    {
     "data": {
      "text/plain": [
       "'90'"
      ]
     },
     "execution_count": 91,
     "metadata": {},
     "output_type": "execute_result"
    }
   ],
   "source": [
    "actual_score = score.score\n",
    "actual_score"
   ]
  },
  {
   "cell_type": "markdown",
   "id": "4c9ae18f",
   "metadata": {},
   "source": [
    "# **`Recommendation Node`**"
   ]
  },
  {
   "cell_type": "code",
   "execution_count": 101,
   "id": "a63503f5",
   "metadata": {},
   "outputs": [],
   "source": [
    "class Recommender(BaseModel):\n",
    "    \"\"\"Give recommendation based on description\"\"\"\n",
    "    recommendations : str = Field(description=\"Recommendations to enhance the compatability score\")\n",
    "\n",
    "llm_with_rec = model.with_structured_output(Recommender)\n",
    "system = \"\"\"You are an expert recommendation consultant with 20 years of experience. You are given with compatibility score of job requirements and resume of applicant. Based on your experience and considering job-requirements , give recommendations to applicant to enhance its resume and make it compatible with job description and increase its compatibility score. Give recommendations in Bullet format\n",
    "Return a JSON object with a single field `recommendations`, which contains a string.\n",
    "The string must contain exactly 5 recommendations, each on a new line starting with '*'.\n",
    "Do not return a list or any other format.\"\"\"\n",
    "\n",
    "prompt = ChatPromptTemplate([\n",
    "    ('system' , system),\n",
    "    ('human' , \"Job description is : {description} Resume of Applicant is : {resume} and the compatibility score between them is : {score}\")\n",
    "])\n",
    "\n",
    "recom_chain = prompt | llm_with_rec\n",
    "res = recom_chain.invoke({\"description\" : jobDescripition , \"resume\" : applicant , \"score\" : actual_score})"
   ]
  },
  {
   "cell_type": "code",
   "execution_count": 104,
   "id": "65ddcc27",
   "metadata": {},
   "outputs": [],
   "source": [
    "recommendation = res.recommendations"
   ]
  },
  {
   "cell_type": "markdown",
   "id": "1e97c7c5",
   "metadata": {},
   "source": [
    "# **`Synthesizer`**"
   ]
  },
  {
   "cell_type": "code",
   "execution_count": 112,
   "id": "b10db2c9",
   "metadata": {},
   "outputs": [],
   "source": [
    "class Synthesizer(BaseModel):\n",
    "    \"\"\"Gather the information in unified Format\"\"\"\n",
    "    requirements : str = Field(description=\"Requirements of Job Description\")\n",
    "    score : str = Field(description=\"Score of Compatibility of job description and resume of Applicant\")\n",
    "    recommendation : str = Field(description=\"Recommendation for improvement of resume\")\n",
    "\n",
    "llm_with_synth = model.with_structured_output(Synthesizer)\n",
    "\n",
    "system = \"\"\"You are an expert Synthesizer which gather the information in following format with Title of each Paragraph \\n Requirements \\n Score of Compatibility \\n Recommendation \"\"\"\n",
    "\n",
    "prompt = ChatPromptTemplate([\n",
    "    ('system' , system),\n",
    "    ('human' , \"Requirements  : {requirements} , Score : {score}  , Recommendation : {recommendation}\")\n",
    "])\n",
    "\n",
    "synthersizer_chain = prompt | llm_with_synth\n",
    "\n",
    "result = synthersizer_chain.invoke({\"requirements\" : requirements , \"score\" : actual_score , \"recommendation\" : recommendation})"
   ]
  },
  {
   "cell_type": "code",
   "execution_count": null,
   "id": "723c582f",
   "metadata": {},
   "outputs": [
    {
     "data": {
      "text/plain": [
       "Synthesizer(requirements='• Proficient with Microsoft Word and Excel\\n• General knowledge of employment law and practices\\n• Able to maintain a high level of confidentiality\\n• Effective oral and written management communication skills\\n• Experience with Human Resources Information system (HRIS) database management and record keeping', score='90', recommendation='* Improve knowledge of HR Information Systems and HRIS database management to enhance compatibility with the job description\\n* Develop skills in employee safety, welfare, wellness, and health reporting to increase the compatibility score\\n* Enhance experience in company-wide committee facilitation and participation to better align with the job requirements\\n* Improve understanding of HR law and compliance with governmental regulations to increase compatibility with the job description\\n* Consider obtaining certifications or training in areas such as employment law and strategic planning to further enhance the resume and increase the compatibility score')"
      ]
     },
     "execution_count": 117,
     "metadata": {},
     "output_type": "execute_result"
    }
   ],
   "source": [
    "result.recommendation"
   ]
  },
  {
   "cell_type": "markdown",
   "id": "7c266c9d",
   "metadata": {},
   "source": [
    "# **`Definition of State of Graph`**"
   ]
  },
  {
   "cell_type": "code",
   "execution_count": 130,
   "id": "13e9681b",
   "metadata": {},
   "outputs": [],
   "source": [
    "from typing_extensions import TypedDict\n",
    "class State(TypedDict):\n",
    "    \"\"\"State of Nodes of Graph\"\"\"\n",
    "    job_desc : str\n",
    "    resume : str\n",
    "    requirements : str\n",
    "    score : str\n",
    "    recommendation : str\n",
    "    finalized : str"
   ]
  },
  {
   "cell_type": "markdown",
   "id": "8f7eec08",
   "metadata": {},
   "source": [
    "# **`Definition of Nodes of Graph`**"
   ]
  },
  {
   "cell_type": "code",
   "execution_count": 131,
   "id": "edfde98d",
   "metadata": {},
   "outputs": [],
   "source": [
    "def Job_req(state : State):\n",
    "    \"\"\"State the requirements mention in the job Description\n",
    "    Args:\n",
    "        state (dict) : the current state of Graph\n",
    "\n",
    "    Returns:\n",
    "        state (dict) : Updated state of Graph\n",
    "    \"\"\"\n",
    "    job_desc = state['job_desc']\n",
    "    result = JD_chain.invoke({\"description\" : job_desc})\n",
    "    return {\"requirements\" : result}\n",
    "\n",
    "def compatability_Score(state : State):\n",
    "    \"\"\"\n",
    "    Determine the compatibility score of Job Requirements and Resume of Applicant\n",
    "    Args:\n",
    "        state (dict) : the current state of Graph\n",
    "\n",
    "    Returns:\n",
    "        state (dict) : Updated state of Graph\n",
    "    \"\"\"\n",
    "    requirements = state[\"requirements\"]\n",
    "    resume = state['resume']\n",
    "    result = comp_chain.invoke({\"requirements\" : requirements , \"resume\" : resume})\n",
    "    return {'score' : result}\n",
    "\n",
    "def recom_node(state : State):\n",
    "    \"\"\"\n",
    "    Give the recommendations based on the job requirements and applicant resume\n",
    "    Args:\n",
    "        state (dict) : the current state of Graph\n",
    "\n",
    "    Returns:\n",
    "        state (dict) : Updated state of Graph\n",
    "    \n",
    "    \"\"\"\n",
    "    resume = state['resume']\n",
    "    description = state[\"job_desc\"]\n",
    "    score = state['score']\n",
    "    result = recom_chain.invoke({\"description\" : description , \"resume\" : resume , \"score\" : score})\n",
    "    return {\"recommendation\" : result}\n",
    "\n",
    "def synthesizer(state : State):\n",
    "    \"\"\"\n",
    "    Synthesize the document in proper format in the form of Markdown\n",
    "    Args:\n",
    "        state (dict) : the current state of Graph\n",
    "\n",
    "    Returns:\n",
    "        state (dict) : Updated state of Graph\n",
    "    \"\"\"\n",
    "    requirements = state[\"requirements\"]\n",
    "    recommendation = state[\"recommendation\"]\n",
    "    score = state['score']   \n",
    "    result = synthersizer_chain.invoke({\"requirements\" : requirements , \"score\" : score , \"recommendation\" : recommendation})\n",
    "    return {\"finalized\" : result}"
   ]
  },
  {
   "cell_type": "code",
   "execution_count": 132,
   "id": "73dd68b1",
   "metadata": {},
   "outputs": [
    {
     "data": {
      "image/png": "[encoded data removed]",
      "text/plain": [
       "<IPython.core.display.Image object>"
      ]
     },
     "metadata": {},
     "output_type": "display_data"
    }
   ],
   "source": [
    "from langgraph.graph import StateGraph, START, END\n",
    "from IPython.display import Image, display\n",
    "\n",
    "builder = StateGraph(State)\n",
    "\n",
    "## Defining the Nodes of Graph\n",
    "\n",
    "builder.add_node('job_req' , Job_req)\n",
    "builder.add_node('comp_score' , compatability_Score)\n",
    "builder.add_node('recommendation' , recom_node)\n",
    "builder.add_node('synthesizer' , synthesizer)\n",
    "\n",
    "### Defining the Workflow\n",
    "\n",
    "builder.add_edge(START , 'job_req')\n",
    "builder.add_edge('job_req' , 'comp_score')\n",
    "builder.add_edge('comp_score' , 'recommendation')\n",
    "builder.add_edge('recommendation' , 'synthesizer')\n",
    "builder.add_edge(\"synthesizer\" , END)\n",
    "\n",
    "graph = builder.compile()\n",
    "display(Image(graph.get_graph().draw_mermaid_png()))"
   ]
  },
  {
   "cell_type": "code",
   "execution_count": 153,
   "id": "5bf00795",
   "metadata": {},
   "outputs": [],
   "source": [
    "result = graph.invoke({\"job_desc\" : \"Machine Learning Engineer\", \"resume\" : applicant})"
   ]
  },
  {
   "cell_type": "code",
   "execution_count": 154,
   "id": "bdfda51d",
   "metadata": {},
   "outputs": [
    {
     "data": {
      "text/markdown": [
       "### ✅ Requirements"
      ],
      "text/plain": [
       "<IPython.core.display.Markdown object>"
      ]
     },
     "metadata": {},
     "output_type": "display_data"
    },
    {
     "data": {
      "text/markdown": [
       "• Master’s or Ph.D. in Computer Science, Machine Learning, or related field\n",
       "• 5+ years of experience in machine learning or a related field\n",
       "• Strong understanding of machine learning algorithms and data structures\n",
       "• Experience with deep learning frameworks such as TensorFlow or PyTorch\n",
       "• Strong programming skills in languages such as Python, Java, or C++\n",
       "• Experience with data preprocessing, feature engineering, and model evaluation\n",
       "• Strong understanding of statistical modeling and data analysis\n",
       "• Experience with cloud-based technologies such as AWS or Azure\n",
       "• Strong communication and collaboration skills\n",
       "• Experience with version control systems such as Git"
      ],
      "text/plain": [
       "<IPython.core.display.Markdown object>"
      ]
     },
     "metadata": {},
     "output_type": "display_data"
    },
    {
     "data": {
      "text/markdown": [
       "### 📊 Score"
      ],
      "text/plain": [
       "<IPython.core.display.Markdown object>"
      ]
     },
     "metadata": {},
     "output_type": "display_data"
    },
    {
     "data": {
      "text/markdown": [
       "0"
      ],
      "text/plain": [
       "<IPython.core.display.Markdown object>"
      ]
     },
     "metadata": {},
     "output_type": "display_data"
    },
    {
     "data": {
      "text/markdown": [
       "### 💡 Recommendation"
      ],
      "text/plain": [
       "<IPython.core.display.Markdown object>"
      ]
     },
     "metadata": {},
     "output_type": "display_data"
    },
    {
     "data": {
      "text/markdown": [
       "* Pursue a Master’s or Ph.D. in Computer Science, Machine Learning, or a related field to enhance your knowledge and skills in machine learning algorithms and data structures\n",
       "* Acquire experience in machine learning or a related field, focusing on deep learning frameworks such as TensorFlow or PyTorch, and programming languages like Python, Java, or C++\n",
       "* Develop strong understanding of statistical modeling and data analysis, and gain experience with data preprocessing, feature engineering, and model evaluation\n",
       "* Familiarize yourself with cloud-based technologies such as AWS or Azure, and version control systems like Git to improve your technical skills\n",
       "* Take online courses or attend workshops to learn about machine learning, deep learning, and data science, and apply for internships or entry-level positions in machine learning to gain practical experience"
      ],
      "text/plain": [
       "<IPython.core.display.Markdown object>"
      ]
     },
     "metadata": {},
     "output_type": "display_data"
    }
   ],
   "source": [
    "from IPython.display import display, Markdown\n",
    "\n",
    "display(Markdown(\"### ✅ Requirements\"))\n",
    "display(Markdown(result['finalized'].requirements))\n",
    "\n",
    "display(Markdown(\"### 📊 Score\"))\n",
    "display(Markdown(result['finalized'].score))\n",
    "\n",
    "display(Markdown(\"### 💡 Recommendation\"))\n",
    "display(Markdown(result['finalized'].recommendation))\n"
   ]
  },
  {
   "cell_type": "code",
   "execution_count": 147,
   "id": "0c59b6c9",
   "metadata": {},
   "outputs": [
    {
     "name": "stdout",
     "output_type": "stream",
     "text": [
      "--------------- Score ---------------\n"
     ]
    },
    {
     "data": {
      "text/markdown": [
       "80"
      ],
      "text/plain": [
       "<IPython.core.display.Markdown object>"
      ]
     },
     "execution_count": 147,
     "metadata": {},
     "output_type": "execute_result"
    }
   ],
   "source": [
    "print(\"--------------- Score ---------------\")\n",
    "Markdown(result['finalized'].score)"
   ]
  },
  {
   "cell_type": "code",
   "execution_count": 148,
   "id": "e7a70fa3",
   "metadata": {},
   "outputs": [
    {
     "name": "stdout",
     "output_type": "stream",
     "text": [
      "--------------- Recommendation ---------------\n"
     ]
    },
    {
     "data": {
      "text/markdown": [
       "* Improve proficiency in Microsoft Word and Excel by taking advanced courses to enhance skills\n",
       "* Expand knowledge of employment law and practices by attending seminars or workshops to stay updated on recent changes\n",
       "* Develop strategic planning skills by participating in training programs or workshops that focus on goal setting and objective development\n",
       "* Enhance oral and written management communication skills by taking courses or attending workshops that focus on effective communication techniques\n",
       "* Gain experience with HRIS database management and record keeping to increase compatibility with the job requirements"
      ],
      "text/plain": [
       "<IPython.core.display.Markdown object>"
      ]
     },
     "execution_count": 148,
     "metadata": {},
     "output_type": "execute_result"
    }
   ],
   "source": [
    "print(\"--------------- Recommendation ---------------\")\n",
    "Markdown(result['finalized'].recommendation)"
   ]
  },
  {
   "cell_type": "code",
   "execution_count": null,
   "id": "203ada66",
   "metadata": {},
   "outputs": [],
   "source": []
  }
 ],
 "metadata": {
  "kernelspec": {
   "display_name": "Python 3",
   "language": "python",
   "name": "python3"
  },
  "language_info": {
   "codemirror_mode": {
    "name": "ipython",
    "version": 3
   },
   "file_extension": ".py",
   "mimetype": "text/x-python",
   "name": "python",
   "nbconvert_exporter": "python",
   "pygments_lexer": "ipython3",
   "version": "3.12.0"
  }
 },
 "nbformat": 4,
 "nbformat_minor": 5
}
